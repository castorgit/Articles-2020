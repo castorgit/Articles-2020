{
 "cells": [
  {
   "cell_type": "markdown",
   "metadata": {},
   "source": [
    "# distances"
   ]
  },
  {
   "cell_type": "code",
   "execution_count": 6,
   "metadata": {},
   "outputs": [],
   "source": [
    "import numpy as np\n",
    "import pandas as pd\n",
    "from math import sin, cos, sqrt, atan2, radians"
   ]
  },
  {
   "cell_type": "code",
   "execution_count": 7,
   "metadata": {},
   "outputs": [],
   "source": [
    "site1 = [29.949825, -103.09787] # 6591\n",
    "site2 = [29.951412, -103.077209] # 6592"
   ]
  },
  {
   "cell_type": "markdown",
   "metadata": {},
   "source": [
    "### distance between two points in coordinates"
   ]
  },
  {
   "cell_type": "code",
   "execution_count": 82,
   "metadata": {},
   "outputs": [],
   "source": [
    "R = 6373.0\n",
    "# approximate radius of earth in km\n",
    "\n",
    "# distance in km\n",
    "def distance(lat_1a, lng_1a, lat_2a, lng_2a) :\n",
    "   lat1 = radians(lat_1a)\n",
    "   lat2 = radians(lat_2a)\n",
    "   lon1 = radians(lng_1a)\n",
    "   lon2 = radians(lng_2a)\n",
    "   \n",
    "   dlon = lon2 - lon1\n",
    "   dlat = lat2 - lat1\n",
    "    \n",
    "   a = sin(dlat / 2)**2 + cos(lat1) * cos(lat2) * sin(dlon / 2)**2\n",
    "   c = 2 * atan2(sqrt(a), sqrt(1 - a))\n",
    "\n",
    "   distance = R * c\n",
    "   return distance\n",
    "def get_distance(lat_1a, lng_1a, lat_2a, lng_2a) :\n",
    "    lat_1 = radians(lat_1a)\n",
    "    lat_2 = radians(lat_2a)\n",
    "    lng_1 = radians(lng_1a)\n",
    "    lng_2 = radians(lng_2a)\n",
    "    \n",
    "    \n",
    "    d_lat = lat_2 - lat_1\n",
    "    d_lng = lng_2 - lng_1 \n",
    "\n",
    "    temp = (  \n",
    "         sin(d_lat / 2) ** 2 \n",
    "       + cos(lat_1) \n",
    "       * cos(lat_2) \n",
    "       * sin(d_lng / 2) ** 2\n",
    "    )\n",
    "\n",
    "    return 6373.0 * (2 * atan2(sqrt(temp), sqrt(1 - temp)))"
   ]
  },
  {
   "cell_type": "code",
   "execution_count": 83,
   "metadata": {},
   "outputs": [
    {
     "data": {
      "text/plain": [
       "1.9990285585953012"
      ]
     },
     "execution_count": 83,
     "metadata": {},
     "output_type": "execute_result"
    }
   ],
   "source": [
    "distance(site1[0],site1[1], site2[0], site2[1])"
   ]
  },
  {
   "cell_type": "code",
   "execution_count": 81,
   "metadata": {},
   "outputs": [
    {
     "data": {
      "text/plain": [
       "1.9990285585953012"
      ]
     },
     "execution_count": 81,
     "metadata": {},
     "output_type": "execute_result"
    }
   ],
   "source": [
    "get_distance(site1[0],site1[1], site2[0], site2[1])"
   ]
  },
  {
   "cell_type": "code",
   "execution_count": 1,
   "metadata": {},
   "outputs": [],
   "source": [
    "from Wind.Config import wind_path\n",
    "import numpy as np\n",
    "from sklearn.neighbors import KDTree\n",
    "from Wind.Config.Paths import wind_data_path\n",
    "from Wind.Spatial.Util import get_all_neighbors, get_closest_k_neighbors, get_direct_neighbors"
   ]
  },
  {
   "cell_type": "code",
   "execution_count": 2,
   "metadata": {},
   "outputs": [
    {
     "name": "stdout",
     "output_type": "stream",
     "text": [
      "['11-5794-12', '11-5795-12', '11-5793-12']\n"
     ]
    }
   ],
   "source": [
    "lneighbor = [5794]\n",
    "print(get_closest_k_neighbors(\"11-5794-12\", 1.02,5))"
   ]
  },
  {
   "cell_type": "code",
   "execution_count": 3,
   "metadata": {},
   "outputs": [
    {
     "name": "stdout",
     "output_type": "stream",
     "text": [
      "isite 5794\n"
     ]
    },
    {
     "data": {
      "text/plain": [
       "['11-5794-12',\n",
       " '11-5793-12',\n",
       " '11-5795-12',\n",
       " '11-5796-12',\n",
       " '11-5797-12',\n",
       " '11-5798-12',\n",
       " '11-5799-12',\n",
       " '11-5800-12',\n",
       " '11-5801-12',\n",
       " '11-5802-12']"
      ]
     },
     "execution_count": 3,
     "metadata": {},
     "output_type": "execute_result"
    }
   ],
   "source": [
    "get_all_neighbors(\"11-5794-12\", 1.5)"
   ]
  },
  {
   "cell_type": "code",
   "execution_count": 4,
   "metadata": {},
   "outputs": [
    {
     "data": {
      "text/plain": [
       "array([6590, 6591, 6592], dtype=int64)"
      ]
     },
     "execution_count": 4,
     "metadata": {},
     "output_type": "execute_result"
    }
   ],
   "source": [
    "get_direct_neighbors(6591, 2)"
   ]
  },
  {
   "cell_type": "code",
   "execution_count": 78,
   "metadata": {},
   "outputs": [],
   "source": [
    "file_name = 'e:/Wind$JM/analysis_final_results_experiments/sites_with_neighbours2.csv'\n",
    "df = pd.read_csv(file_name)\n",
    "def get_neighbors_from_csv(s):\n",
    "    d2 = df[df['site']==s]\n",
    "    lsites = list(d2['list-neighbours'].values)\n",
    "    return lsites[0]"
   ]
  },
  {
   "cell_type": "code",
   "execution_count": 82,
   "metadata": {},
   "outputs": [
    {
     "data": {
      "text/plain": [
       "'[\"13-6591-12\", \"12-6263-12\", \"13-6591-12\", \"12-6314-12\", \"12-6264-12\", \"13-6638-12\", \"13-6592-12\", \"12-6367-12\", \"13-6685-12\", \"12-6315-12\", \"13-6684-12\", \"12-6441-12\", \"13-6593-12\", \"13-6639-12\", \"12-6368-12\", \"12-6497-12\", \"12-6316-12\", \"13-6550-12\", \"13-6642-12\", \"13-6545-12\", \"13-6594-12\", \"12-6440-12\", \"13-6641-12\", \"13-6640-12\", \"13-6546-12\", \"13-6549-12\", \"12-6438-12\", \"12-6496-12\", \"13-6595-12\", \"13-6547-12\", \"13-6548-12\", \"13-6596-12\", \"12-6370-12\", \"12-6494-12\", \"12-6495-12\", \"12-6439-12\", \"12-6369-12\", \"13-6544-12\"]'"
      ]
     },
     "execution_count": 82,
     "metadata": {},
     "output_type": "execute_result"
    }
   ],
   "source": [
    "l = get_neighbors_from_csv(6591)\n",
    "d2 = df.loc[df['site']==s][\"list-neighbours\"].values[0]\n",
    "d2"
   ]
  },
  {
   "cell_type": "code",
   "execution_count": 83,
   "metadata": {},
   "outputs": [
    {
     "name": "stdout",
     "output_type": "stream",
     "text": [
      "isite 6591\n"
     ]
    },
    {
     "data": {
      "text/plain": [
       "['13-6591-12',\n",
       " '13-6589-12',\n",
       " '13-6590-12',\n",
       " '13-6592-12',\n",
       " '13-6593-12',\n",
       " '13-6594-12',\n",
       " '13-6595-12',\n",
       " '13-6596-12',\n",
       " '13-6597-12',\n",
       " '13-6598-12',\n",
       " '13-6599-12',\n",
       " '13-6600-12',\n",
       " '13-6601-12',\n",
       " '13-6602-12',\n",
       " '13-6603-12',\n",
       " '13-6604-12',\n",
       " '13-6605-12',\n",
       " '13-6606-12',\n",
       " '13-6607-12',\n",
       " '13-6608-12',\n",
       " '13-6609-12',\n",
       " '13-6610-12',\n",
       " '13-6611-12',\n",
       " '13-6612-12',\n",
       " '13-6613-12',\n",
       " '13-6614-12',\n",
       " '13-6615-12',\n",
       " '13-6616-12',\n",
       " '13-6617-12',\n",
       " '13-6618-12',\n",
       " '13-6619-12',\n",
       " '13-6620-12',\n",
       " '13-6621-12',\n",
       " '13-6622-12',\n",
       " '13-6623-12',\n",
       " '13-6624-12',\n",
       " '13-6625-12',\n",
       " '13-6626-12',\n",
       " '13-6627-12',\n",
       " '13-6628-12',\n",
       " '13-6629-12',\n",
       " '13-6630-12',\n",
       " '13-6631-12',\n",
       " '13-6632-12',\n",
       " '13-6633-12']"
      ]
     },
     "execution_count": 83,
     "metadata": {},
     "output_type": "execute_result"
    }
   ],
   "source": [
    "get_all_neighbors(\"13-6591-12\", 10.5)"
   ]
  },
  {
   "cell_type": "code",
   "execution_count": null,
   "metadata": {},
   "outputs": [],
   "source": []
  }
 ],
 "metadata": {
  "kernelspec": {
   "display_name": "Python 3",
   "language": "python",
   "name": "python3"
  },
  "language_info": {
   "codemirror_mode": {
    "name": "ipython",
    "version": 3
   },
   "file_extension": ".py",
   "mimetype": "text/x-python",
   "name": "python",
   "nbconvert_exporter": "python",
   "pygments_lexer": "ipython3",
   "version": "3.6.4"
  }
 },
 "nbformat": 4,
 "nbformat_minor": 2
}
